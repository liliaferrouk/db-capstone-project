{
 "cells": [
  {
   "cell_type": "code",
   "execution_count": 1,
   "id": "37a92ec1-fecb-452b-8814-5b9ed1310fb2",
   "metadata": {},
   "outputs": [
    {
     "name": "stdout",
     "output_type": "stream",
     "text": [
      "Requirement already satisfied: mysql-connector-python in c:\\users\\x p s\\appdata\\local\\programs\\python\\python311\\lib\\site-packages (8.1.0)\n",
      "Requirement already satisfied: protobuf<=4.21.12,>=4.21.1 in c:\\users\\x p s\\appdata\\local\\programs\\python\\python311\\lib\\site-packages (from mysql-connector-python) (4.21.12)\n",
      "Note: you may need to restart the kernel to use updated packages.\n"
     ]
    }
   ],
   "source": [
    "pip install mysql-connector-python"
   ]
  },
  {
   "cell_type": "code",
   "execution_count": 2,
   "id": "30a9e2c4-ac7c-41b4-8274-f675e258a3f2",
   "metadata": {},
   "outputs": [],
   "source": [
    "import mysql.connector as connector"
   ]
  },
  {
   "cell_type": "code",
   "execution_count": 3,
   "id": "47b0aa85-c15f-4319-8317-aa738f63280c",
   "metadata": {},
   "outputs": [],
   "source": [
    "connection = connector.connect(user = \"admin1\", password = \"password1\", database= \"littlelemondb2\")"
   ]
  },
  {
   "cell_type": "code",
   "execution_count": 4,
   "id": "1efdf563-4d82-4a22-9538-5aac7d93a28e",
   "metadata": {},
   "outputs": [],
   "source": [
    "cursor = connection.cursor()"
   ]
  },
  {
   "cell_type": "code",
   "execution_count": 5,
   "id": "4a6d015f",
   "metadata": {},
   "outputs": [
    {
     "name": "stdout",
     "output_type": "stream",
     "text": [
      "('bookings',)\n",
      "('customers',)\n",
      "('employees',)\n",
      "('menuitems',)\n",
      "('menuitemswithmorethan2ordersview',)\n",
      "('menus',)\n",
      "('orderdeliverystatus',)\n",
      "('ordermorethan150view',)\n",
      "('orders',)\n",
      "('ordersview',)\n"
     ]
    }
   ],
   "source": [
    "cursor.execute(\"SHOW TABLES\")\n",
    "for table in cursor:\n",
    "    print(table)"
   ]
  },
  {
   "cell_type": "code",
   "execution_count": 6,
   "id": "dd2943da",
   "metadata": {},
   "outputs": [],
   "source": [
    "sql_show_cunsomers_cost60 = \"\"\"\n",
    "SELECT c.CustomerFullName, c.ContactNumber, c.Email, o.Cost\n",
    "FROM customers as c INNER JOIN bookings as b INNER JOIN orders as o\n",
    "ON (c.CustomerID= b.CustomerID AND b.BookingID= o.BookingID)\n",
    "WHERE o.Cost > 60\n",
    "\"\"\""
   ]
  },
  {
   "cell_type": "code",
   "execution_count": 7,
   "id": "6ce99be4",
   "metadata": {},
   "outputs": [],
   "source": [
    "cursor.execute(sql_show_cunsomers_cost60)"
   ]
  },
  {
   "cell_type": "code",
   "execution_count": 8,
   "id": "4ff9f559",
   "metadata": {},
   "outputs": [
    {
     "name": "stdout",
     "output_type": "stream",
     "text": [
      "('CustomerFullName', 'ContactNumber', 'Email', 'Cost')\n",
      "('Customer3', '0533147755', 'c3@gmail.com', Decimal('200'))\n",
      "('Customer4', '0549144755', 'c4@gmail.com', Decimal('250'))\n",
      "('Customer2', '0549147565', 'c2@gmail.com', Decimal('100'))\n",
      "('Customer3', '0533147755', 'c3@gmail.com', Decimal('200'))\n"
     ]
    }
   ],
   "source": [
    "results = cursor.fetchall()\n",
    "print(cursor.column_names)\n",
    "for r in results:\n",
    "    print(r)"
   ]
  }
 ],
 "metadata": {
  "kernelspec": {
   "display_name": "Python 3 (ipykernel)",
   "language": "python",
   "name": "python3"
  },
  "language_info": {
   "codemirror_mode": {
    "name": "ipython",
    "version": 3
   },
   "file_extension": ".py",
   "mimetype": "text/x-python",
   "name": "python",
   "nbconvert_exporter": "python",
   "pygments_lexer": "ipython3",
   "version": "3.11.3"
  }
 },
 "nbformat": 4,
 "nbformat_minor": 5
}
